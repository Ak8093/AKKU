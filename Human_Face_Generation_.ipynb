{
  "nbformat": 4,
  "nbformat_minor": 0,
  "metadata": {
    "colab": {
      "provenance": [],
      "gpuType": "T4",
      "authorship_tag": "ABX9TyM/WNZWb5oss/Wa+ugJix6Y",
      "include_colab_link": true
    },
    "kernelspec": {
      "name": "python3",
      "display_name": "Python 3"
    },
    "language_info": {
      "name": "python"
    },
    "accelerator": "GPU"
  },
  "cells": [
    {
      "cell_type": "markdown",
      "metadata": {
        "id": "view-in-github",
        "colab_type": "text"
      },
      "source": [
        "<a href=\"https://colab.research.google.com/github/Ak8093/AKKU/blob/main/Human_Face_Generation_.ipynb\" target=\"_parent\"><img src=\"https://colab.research.google.com/assets/colab-badge.svg\" alt=\"Open In Colab\"/></a>"
      ]
    },
    {
      "cell_type": "code",
      "execution_count": null,
      "metadata": {
        "id": "FzTtQusVlsyC"
      },
      "outputs": [],
      "source": [
        "# =========================================\n",
        "# Human Face Generation with Stable Diffusion\n",
        "# =========================================\n",
        "\n",
        "\n",
        "!pip install -q diffusers transformers accelerate safetensors torch --upgrade\n",
        "\n",
        "import torch\n",
        "from diffusers import StableDiffusionPipeline\n",
        "from IPython.display import display\n",
        "\n",
        "# Load smaller model (Stable Diffusion v1.5)\n",
        "pipe = StableDiffusionPipeline.from_pretrained(\n",
        "    \"runwayml/stable-diffusion-v1-5\",\n",
        "    torch_dtype=torch.float16\n",
        ").to(\"cuda\")\n",
        "\n",
        "# Prompt\n",
        "prompt = \"Photorealistic portrait of a young woman, natural skin, clear eyes, soft lighting, studio background\"\n",
        "negative_prompt = \"blurry, cartoon, painting, watermark, text, deformed\"\n",
        "\n",
        "# Generate (optimized time complexity)\n",
        "image = pipe(\n",
        "    prompt,\n",
        "    negative_prompt=negative_prompt,\n",
        "    num_inference_steps=15,   # O(N) → very low\n",
        "    guidance_scale=7.0,\n",
        "    width=512, height=512     # O(R) → smaller resolution\n",
        ").images[0]\n",
        "\n",
        "display(image)\n",
        "\n"
      ]
    }
  ]
}